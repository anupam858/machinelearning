{
 "cells": [
  {
   "cell_type": "markdown",
   "metadata": {},
   "source": [
    "\n",
    "<center><h1> Machine Learning Training </h1></center>\n",
    "<h2>Assignments DAY 1</h2>\n"
   ]
  },
  {
   "cell_type": "markdown",
   "metadata": {},
   "source": [
    "1. create a function f_sum to add 5 numbers"
   ]
  },
  {
   "cell_type": "code",
   "execution_count": 2,
   "metadata": {},
   "outputs": [],
   "source": [
    "def f_sum(*argv):\n",
    "    print(sum(argv))"
   ]
  },
  {
   "cell_type": "code",
   "execution_count": 3,
   "metadata": {},
   "outputs": [
    {
     "name": "stdout",
     "output_type": "stream",
     "text": [
      "15\n",
      "40\n"
     ]
    }
   ],
   "source": [
    "f_sum(1,2,3,4,5)\n",
    "\n",
    "f_sum(1,9,10,5,15)"
   ]
  },
  {
   "cell_type": "markdown",
   "metadata": {},
   "source": [
    "<p>2. Check the type of a number<p>\n"
   ]
  },
  {
   "cell_type": "code",
   "execution_count": 3,
   "metadata": {},
   "outputs": [
    {
     "name": "stdout",
     "output_type": "stream",
     "text": [
      "Type of x is <class 'float'>\n"
     ]
    }
   ],
   "source": [
    "x = 5.5\n",
    "print(\"Type of x is \" + str(type(x)))"
   ]
  },
  {
   "cell_type": "markdown",
   "metadata": {},
   "source": [
    "<p> 3. Create a variable and print Techno India , Rajarhat and then check the length of the entire string <p>"
   ]
  },
  {
   "cell_type": "code",
   "execution_count": 6,
   "metadata": {},
   "outputs": [
    {
     "name": "stdout",
     "output_type": "stream",
     "text": [
      "Techno India, Rajarhat\n",
      "length of string: 22\n"
     ]
    }
   ],
   "source": [
    "n1 = 'Techno'\n",
    "n2 = 'India'\n",
    "n3 = 'Rajarhat'\n",
    "string = n1 + \" \" + n2 + \", \" + n3\n",
    "print(string)\n",
    "print(\"length of string: \" + str(len(string)))"
   ]
  },
  {
   "cell_type": "markdown",
   "metadata": {},
   "source": [
    "<p> 4.Create a List with values 2,5,7,1,6,8 and print the value which is in 4th position. Add 9 to the end of the list and then remove the last element of that list and show list.<p> "
   ]
  },
  {
   "cell_type": "code",
   "execution_count": 7,
   "metadata": {},
   "outputs": [
    {
     "name": "stdout",
     "output_type": "stream",
     "text": [
      "1\n",
      "[2, 5, 7, 1, 6, 8, 9]\n",
      "[2, 5, 7, 1, 6, 8]\n"
     ]
    }
   ],
   "source": [
    "l = [2,5,7,1,6,8]\n",
    "\n",
    "print(l[3])\n",
    "\n",
    "l.append(9)\n",
    "print(l)\n",
    "\n",
    "l.pop()\n",
    "print(l)"
   ]
  },
  {
   "cell_type": "markdown",
   "metadata": {},
   "source": [
    "<p>5. Create a dictionary where BMW is white and Audi is red and show the colour of Audi. Set BMW colour as black and save it. <p>"
   ]
  },
  {
   "cell_type": "code",
   "execution_count": 10,
   "metadata": {},
   "outputs": [
    {
     "name": "stdout",
     "output_type": "stream",
     "text": [
      "Red\n",
      "{'BMW': 'Black', 'Audi': 'Red'}\n"
     ]
    }
   ],
   "source": [
    "dict1 = {'Audi': 'Red', 'BMW': 'White' }\n",
    "\n",
    "print(dict1['Audi'])\n",
    "\n",
    "dict1['BMW']= 'Black'\n",
    "print(dict1)"
   ]
  },
  {
   "cell_type": "markdown",
   "metadata": {},
   "source": [
    "<p> 6. Show 10 elements of the list using for loop and while loop <p>"
   ]
  },
  {
   "cell_type": "code",
   "execution_count": 12,
   "metadata": {},
   "outputs": [
    {
     "name": "stdout",
     "output_type": "stream",
     "text": [
      "Using for loop\n",
      "1\n",
      "23\n",
      "3\n",
      "4\n",
      "5\n",
      "6\n",
      "7\n",
      "8\n",
      "9\n",
      "0\n",
      "Using while loop\n",
      "1\n",
      "23\n",
      "3\n",
      "4\n",
      "5\n",
      "6\n",
      "7\n",
      "8\n",
      "9\n",
      "0\n"
     ]
    }
   ],
   "source": [
    "l2 = [1,23,3,4,5,6,7,8,9,0]\n",
    "\n",
    "print('Using for loop')\n",
    "\n",
    "for i in range(0,10):\n",
    "    print(l2[i])\n",
    "    \n",
    "i = 0\n",
    "\n",
    "print('Using while loop')\n",
    "\n",
    "while(i<10):\n",
    "    print(l2[i])\n",
    "    \n",
    "    i+=1\n",
    "    \n",
    "    \n"
   ]
  },
  {
   "cell_type": "markdown",
   "metadata": {},
   "source": [
    "<p>7. Store in key value pairs and print\n",
    "\n",
    "person   2\n",
    "cat      4\n",
    "spider   8\n",
    "<p>"
   ]
  },
  {
   "cell_type": "code",
   "execution_count": 5,
   "metadata": {},
   "outputs": [
    {
     "name": "stdout",
     "output_type": "stream",
     "text": [
      "A Person has 2 legs.\n",
      "A Spider has 8 legs.\n",
      "A Cat has 4 legs.\n"
     ]
    }
   ],
   "source": [
    "dict2 = {'Person': 2, 'Cat': 4, 'Spider': 8}\n",
    "\n",
    "for i in dict2.keys():\n",
    "    \n",
    "    print(\"A \" + i + \" has \" + str(dict2[i]) + \" legs.\")"
   ]
  },
  {
   "cell_type": "code",
   "execution_count": null,
   "metadata": {},
   "outputs": [],
   "source": []
  }
 ],
 "metadata": {
  "kernelspec": {
   "display_name": "Python 3",
   "language": "python",
   "name": "python3"
  },
  "language_info": {
   "codemirror_mode": {
    "name": "ipython",
    "version": 3
   },
   "file_extension": ".py",
   "mimetype": "text/x-python",
   "name": "python",
   "nbconvert_exporter": "python",
   "pygments_lexer": "ipython3",
   "version": "3.5.5"
  }
 },
 "nbformat": 4,
 "nbformat_minor": 2
}
