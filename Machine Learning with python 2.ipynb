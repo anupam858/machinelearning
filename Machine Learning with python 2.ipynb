{
 "cells": [
  {
   "cell_type": "markdown",
   "metadata": {},
   "source": [
    "# Machine Learning using python\n",
    "\n",
    "\n",
    "<center><h2> Assignment 2 </h2></center>"
   ]
  },
  {
   "cell_type": "markdown",
   "metadata": {},
   "source": [
    "1. Create a sample dataset, import it into python and show the top 10 rows."
   ]
  },
  {
   "cell_type": "code",
   "execution_count": 3,
   "metadata": {},
   "outputs": [],
   "source": [
    "import numpy as np\n",
    "import pandas as pd"
   ]
  },
  {
   "cell_type": "code",
   "execution_count": 12,
   "metadata": {},
   "outputs": [
    {
     "data": {
      "text/html": [
       "<div>\n",
       "<style scoped>\n",
       "    .dataframe tbody tr th:only-of-type {\n",
       "        vertical-align: middle;\n",
       "    }\n",
       "\n",
       "    .dataframe tbody tr th {\n",
       "        vertical-align: top;\n",
       "    }\n",
       "\n",
       "    .dataframe thead th {\n",
       "        text-align: right;\n",
       "    }\n",
       "</style>\n",
       "<table border=\"1\" class=\"dataframe\">\n",
       "  <thead>\n",
       "    <tr style=\"text-align: right;\">\n",
       "      <th></th>\n",
       "      <th>Year</th>\n",
       "      <th>min</th>\n",
       "      <th>max</th>\n",
       "    </tr>\n",
       "  </thead>\n",
       "  <tbody>\n",
       "    <tr>\n",
       "      <th>0</th>\n",
       "      <td>1880</td>\n",
       "      <td>-0.19</td>\n",
       "      <td>-0.11</td>\n",
       "    </tr>\n",
       "    <tr>\n",
       "      <th>1</th>\n",
       "      <td>1881</td>\n",
       "      <td>-0.10</td>\n",
       "      <td>-0.14</td>\n",
       "    </tr>\n",
       "    <tr>\n",
       "      <th>2</th>\n",
       "      <td>1882</td>\n",
       "      <td>-0.10</td>\n",
       "      <td>-0.17</td>\n",
       "    </tr>\n",
       "    <tr>\n",
       "      <th>3</th>\n",
       "      <td>1883</td>\n",
       "      <td>-0.19</td>\n",
       "      <td>-0.21</td>\n",
       "    </tr>\n",
       "    <tr>\n",
       "      <th>4</th>\n",
       "      <td>1884</td>\n",
       "      <td>-0.28</td>\n",
       "      <td>-0.24</td>\n",
       "    </tr>\n",
       "    <tr>\n",
       "      <th>5</th>\n",
       "      <td>1885</td>\n",
       "      <td>-0.31</td>\n",
       "      <td>-0.26</td>\n",
       "    </tr>\n",
       "    <tr>\n",
       "      <th>6</th>\n",
       "      <td>1886</td>\n",
       "      <td>-0.32</td>\n",
       "      <td>-0.27</td>\n",
       "    </tr>\n",
       "    <tr>\n",
       "      <th>7</th>\n",
       "      <td>1887</td>\n",
       "      <td>-0.35</td>\n",
       "      <td>-0.27</td>\n",
       "    </tr>\n",
       "    <tr>\n",
       "      <th>8</th>\n",
       "      <td>1888</td>\n",
       "      <td>-0.18</td>\n",
       "      <td>-0.27</td>\n",
       "    </tr>\n",
       "    <tr>\n",
       "      <th>9</th>\n",
       "      <td>1889</td>\n",
       "      <td>-0.11</td>\n",
       "      <td>-0.26</td>\n",
       "    </tr>\n",
       "  </tbody>\n",
       "</table>\n",
       "</div>"
      ],
      "text/plain": [
       "   Year   min   max\n",
       "0  1880 -0.19 -0.11\n",
       "1  1881 -0.10 -0.14\n",
       "2  1882 -0.10 -0.17\n",
       "3  1883 -0.19 -0.21\n",
       "4  1884 -0.28 -0.24\n",
       "5  1885 -0.31 -0.26\n",
       "6  1886 -0.32 -0.27\n",
       "7  1887 -0.35 -0.27\n",
       "8  1888 -0.18 -0.27\n",
       "9  1889 -0.11 -0.26"
      ]
     },
     "execution_count": 12,
     "metadata": {},
     "output_type": "execute_result"
    }
   ],
   "source": [
    "dataset  = pd.read_csv('D:\\Open Source data\\Global_Temperature\\Global_Temperature_data.csv')\n",
    "dataset.head(10)"
   ]
  },
  {
   "cell_type": "code",
   "execution_count": 11,
   "metadata": {},
   "outputs": [
    {
     "name": "stdout",
     "output_type": "stream",
     "text": [
      "[[ 1.880e+03 -1.900e-01 -1.100e-01]\n",
      " [ 1.881e+03 -1.000e-01 -1.400e-01]\n",
      " [ 1.882e+03 -1.000e-01 -1.700e-01]\n",
      " [ 1.883e+03 -1.900e-01 -2.100e-01]\n",
      " [ 1.884e+03 -2.800e-01 -2.400e-01]\n",
      " [ 1.885e+03 -3.100e-01 -2.600e-01]\n",
      " [ 1.886e+03 -3.200e-01 -2.700e-01]\n",
      " [ 1.887e+03 -3.500e-01 -2.700e-01]\n",
      " [ 1.888e+03 -1.800e-01 -2.700e-01]\n",
      " [ 1.889e+03 -1.100e-01 -2.600e-01]]\n"
     ]
    }
   ],
   "source": [
    "X = dataset.iloc[0:10 , :].values\n",
    "\n",
    "print(X)"
   ]
  },
  {
   "cell_type": "markdown",
   "metadata": {},
   "source": [
    "2. Create a dataframe with name, dept, roll. Add 10 rows of data in it. Convert it into a dataframe.\n",
    "Add 2 columns cgpa1  and cgpa2. \n",
    "show the 3rd row.\n",
    "Display the students with marks >80.\n",
    "Show first 5 and last 2 rows of the dataframe.\n",
    "Show marks column.\n",
    "From cgpa1 and cgpa2 find ygpa"
   ]
  },
  {
   "cell_type": "code",
   "execution_count": 14,
   "metadata": {},
   "outputs": [
    {
     "name": "stdout",
     "output_type": "stream",
     "text": [
      "Anupam\n",
      "IT\n",
      "55\n",
      "PB\n",
      "IT\n",
      "27\n",
      "PJ\n",
      "IT\n",
      "25\n",
      "DK\n",
      "IT\n",
      "27\n",
      "MS\n",
      "36\n",
      "36\n",
      "Prerna\n",
      "IT\n",
      "26\n",
      "KV\n",
      "IT\n",
      "40\n",
      "pC\n",
      "IT\n",
      "28\n",
      "SV\n",
      "IT\n",
      "4\n",
      "MB\n",
      "IT\n",
      "37\n"
     ]
    }
   ],
   "source": [
    "frame = {'name':[], 'dept':[], 'roll':[]}\n",
    "\n",
    "for i in range(1,11):\n",
    "    frame['name'].append(input())\n",
    "    frame['dept'].append(input())\n",
    "    frame['roll'].append(int(input()))\n",
    "    "
   ]
  },
  {
   "cell_type": "code",
   "execution_count": 15,
   "metadata": {},
   "outputs": [
    {
     "name": "stdout",
     "output_type": "stream",
     "text": [
      "{'name': ['Anupam', 'PB', 'PJ', 'DK', 'MS', 'Prerna', 'KV', 'pC', 'SV', 'MB'], 'roll': [55, 27, 25, 27, 36, 26, 40, 28, 4, 37], 'dept': ['IT', 'IT', 'IT', 'IT', '36', 'IT', 'IT', 'IT', 'IT', 'IT']}\n"
     ]
    }
   ],
   "source": [
    "print(frame)"
   ]
  },
  {
   "cell_type": "code",
   "execution_count": 16,
   "metadata": {},
   "outputs": [],
   "source": [
    "dataframe =  pd.DataFrame.from_dict(frame)"
   ]
  },
  {
   "cell_type": "code",
   "execution_count": 17,
   "metadata": {},
   "outputs": [
    {
     "data": {
      "text/html": [
       "<div>\n",
       "<style scoped>\n",
       "    .dataframe tbody tr th:only-of-type {\n",
       "        vertical-align: middle;\n",
       "    }\n",
       "\n",
       "    .dataframe tbody tr th {\n",
       "        vertical-align: top;\n",
       "    }\n",
       "\n",
       "    .dataframe thead th {\n",
       "        text-align: right;\n",
       "    }\n",
       "</style>\n",
       "<table border=\"1\" class=\"dataframe\">\n",
       "  <thead>\n",
       "    <tr style=\"text-align: right;\">\n",
       "      <th></th>\n",
       "      <th>dept</th>\n",
       "      <th>name</th>\n",
       "      <th>roll</th>\n",
       "    </tr>\n",
       "  </thead>\n",
       "  <tbody>\n",
       "    <tr>\n",
       "      <th>0</th>\n",
       "      <td>IT</td>\n",
       "      <td>Anupam</td>\n",
       "      <td>55</td>\n",
       "    </tr>\n",
       "    <tr>\n",
       "      <th>1</th>\n",
       "      <td>IT</td>\n",
       "      <td>PB</td>\n",
       "      <td>27</td>\n",
       "    </tr>\n",
       "    <tr>\n",
       "      <th>2</th>\n",
       "      <td>IT</td>\n",
       "      <td>PJ</td>\n",
       "      <td>25</td>\n",
       "    </tr>\n",
       "    <tr>\n",
       "      <th>3</th>\n",
       "      <td>IT</td>\n",
       "      <td>DK</td>\n",
       "      <td>27</td>\n",
       "    </tr>\n",
       "    <tr>\n",
       "      <th>4</th>\n",
       "      <td>36</td>\n",
       "      <td>MS</td>\n",
       "      <td>36</td>\n",
       "    </tr>\n",
       "    <tr>\n",
       "      <th>5</th>\n",
       "      <td>IT</td>\n",
       "      <td>Prerna</td>\n",
       "      <td>26</td>\n",
       "    </tr>\n",
       "    <tr>\n",
       "      <th>6</th>\n",
       "      <td>IT</td>\n",
       "      <td>KV</td>\n",
       "      <td>40</td>\n",
       "    </tr>\n",
       "    <tr>\n",
       "      <th>7</th>\n",
       "      <td>IT</td>\n",
       "      <td>pC</td>\n",
       "      <td>28</td>\n",
       "    </tr>\n",
       "    <tr>\n",
       "      <th>8</th>\n",
       "      <td>IT</td>\n",
       "      <td>SV</td>\n",
       "      <td>4</td>\n",
       "    </tr>\n",
       "    <tr>\n",
       "      <th>9</th>\n",
       "      <td>IT</td>\n",
       "      <td>MB</td>\n",
       "      <td>37</td>\n",
       "    </tr>\n",
       "  </tbody>\n",
       "</table>\n",
       "</div>"
      ],
      "text/plain": [
       "  dept    name  roll\n",
       "0   IT  Anupam    55\n",
       "1   IT      PB    27\n",
       "2   IT      PJ    25\n",
       "3   IT      DK    27\n",
       "4   36      MS    36\n",
       "5   IT  Prerna    26\n",
       "6   IT      KV    40\n",
       "7   IT      pC    28\n",
       "8   IT      SV     4\n",
       "9   IT      MB    37"
      ]
     },
     "execution_count": 17,
     "metadata": {},
     "output_type": "execute_result"
    }
   ],
   "source": [
    "dataframe"
   ]
  },
  {
   "cell_type": "code",
   "execution_count": 19,
   "metadata": {},
   "outputs": [
    {
     "data": {
      "text/plain": [
       "dept    IT\n",
       "name    PJ\n",
       "roll    25\n",
       "Name: 2, dtype: object"
      ]
     },
     "execution_count": 19,
     "metadata": {},
     "output_type": "execute_result"
    }
   ],
   "source": [
    "dataframe.iloc[2,:]"
   ]
  },
  {
   "cell_type": "code",
   "execution_count": 25,
   "metadata": {},
   "outputs": [],
   "source": [
    "dataframe.insert(loc=3,column='cgpa1',value = [9,9,9,9,8,8,8,7.5,7.5,7.5])"
   ]
  },
  {
   "cell_type": "code",
   "execution_count": 27,
   "metadata": {},
   "outputs": [],
   "source": [
    "dataframe.insert(loc=3,column='cgpa2',value = [9.2,9.2,9.3,9.6,8.9,8.8,8.99,9,9,9])"
   ]
  },
  {
   "cell_type": "code",
   "execution_count": 28,
   "metadata": {},
   "outputs": [
    {
     "data": {
      "text/html": [
       "<div>\n",
       "<style scoped>\n",
       "    .dataframe tbody tr th:only-of-type {\n",
       "        vertical-align: middle;\n",
       "    }\n",
       "\n",
       "    .dataframe tbody tr th {\n",
       "        vertical-align: top;\n",
       "    }\n",
       "\n",
       "    .dataframe thead th {\n",
       "        text-align: right;\n",
       "    }\n",
       "</style>\n",
       "<table border=\"1\" class=\"dataframe\">\n",
       "  <thead>\n",
       "    <tr style=\"text-align: right;\">\n",
       "      <th></th>\n",
       "      <th>dept</th>\n",
       "      <th>name</th>\n",
       "      <th>roll</th>\n",
       "      <th>cgpa2</th>\n",
       "      <th>cgpa1</th>\n",
       "    </tr>\n",
       "  </thead>\n",
       "  <tbody>\n",
       "    <tr>\n",
       "      <th>0</th>\n",
       "      <td>IT</td>\n",
       "      <td>Anupam</td>\n",
       "      <td>55</td>\n",
       "      <td>9.20</td>\n",
       "      <td>9.0</td>\n",
       "    </tr>\n",
       "    <tr>\n",
       "      <th>1</th>\n",
       "      <td>IT</td>\n",
       "      <td>PB</td>\n",
       "      <td>27</td>\n",
       "      <td>9.20</td>\n",
       "      <td>9.0</td>\n",
       "    </tr>\n",
       "    <tr>\n",
       "      <th>2</th>\n",
       "      <td>IT</td>\n",
       "      <td>PJ</td>\n",
       "      <td>25</td>\n",
       "      <td>9.30</td>\n",
       "      <td>9.0</td>\n",
       "    </tr>\n",
       "    <tr>\n",
       "      <th>3</th>\n",
       "      <td>IT</td>\n",
       "      <td>DK</td>\n",
       "      <td>27</td>\n",
       "      <td>9.60</td>\n",
       "      <td>9.0</td>\n",
       "    </tr>\n",
       "    <tr>\n",
       "      <th>4</th>\n",
       "      <td>36</td>\n",
       "      <td>MS</td>\n",
       "      <td>36</td>\n",
       "      <td>8.90</td>\n",
       "      <td>8.0</td>\n",
       "    </tr>\n",
       "    <tr>\n",
       "      <th>5</th>\n",
       "      <td>IT</td>\n",
       "      <td>Prerna</td>\n",
       "      <td>26</td>\n",
       "      <td>8.80</td>\n",
       "      <td>8.0</td>\n",
       "    </tr>\n",
       "    <tr>\n",
       "      <th>6</th>\n",
       "      <td>IT</td>\n",
       "      <td>KV</td>\n",
       "      <td>40</td>\n",
       "      <td>8.99</td>\n",
       "      <td>8.0</td>\n",
       "    </tr>\n",
       "    <tr>\n",
       "      <th>7</th>\n",
       "      <td>IT</td>\n",
       "      <td>pC</td>\n",
       "      <td>28</td>\n",
       "      <td>9.00</td>\n",
       "      <td>7.5</td>\n",
       "    </tr>\n",
       "    <tr>\n",
       "      <th>8</th>\n",
       "      <td>IT</td>\n",
       "      <td>SV</td>\n",
       "      <td>4</td>\n",
       "      <td>9.00</td>\n",
       "      <td>7.5</td>\n",
       "    </tr>\n",
       "    <tr>\n",
       "      <th>9</th>\n",
       "      <td>IT</td>\n",
       "      <td>MB</td>\n",
       "      <td>37</td>\n",
       "      <td>9.00</td>\n",
       "      <td>7.5</td>\n",
       "    </tr>\n",
       "  </tbody>\n",
       "</table>\n",
       "</div>"
      ],
      "text/plain": [
       "  dept    name  roll  cgpa2  cgpa1\n",
       "0   IT  Anupam    55   9.20    9.0\n",
       "1   IT      PB    27   9.20    9.0\n",
       "2   IT      PJ    25   9.30    9.0\n",
       "3   IT      DK    27   9.60    9.0\n",
       "4   36      MS    36   8.90    8.0\n",
       "5   IT  Prerna    26   8.80    8.0\n",
       "6   IT      KV    40   8.99    8.0\n",
       "7   IT      pC    28   9.00    7.5\n",
       "8   IT      SV     4   9.00    7.5\n",
       "9   IT      MB    37   9.00    7.5"
      ]
     },
     "execution_count": 28,
     "metadata": {},
     "output_type": "execute_result"
    }
   ],
   "source": [
    "dataframe"
   ]
  },
  {
   "cell_type": "code",
   "execution_count": null,
   "metadata": {},
   "outputs": [],
   "source": []
  }
 ],
 "metadata": {
  "kernelspec": {
   "display_name": "Python 3",
   "language": "python",
   "name": "python3"
  },
  "language_info": {
   "codemirror_mode": {
    "name": "ipython",
    "version": 3
   },
   "file_extension": ".py",
   "mimetype": "text/x-python",
   "name": "python",
   "nbconvert_exporter": "python",
   "pygments_lexer": "ipython3",
   "version": "3.5.5"
  }
 },
 "nbformat": 4,
 "nbformat_minor": 2
}
